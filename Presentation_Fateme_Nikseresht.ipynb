{
 "cells": [
  {
   "cell_type": "markdown",
   "metadata": {
    "slideshow": {
     "slide_type": "slide"
    }
   },
   "source": [
    "# A Decision Tool for Emotion Dysregulation Intervention\n",
    "    \n",
    "- Project proposal for University of Virginia SYS 6014 Decision Analysis Spring 2020\n",
    "\n",
    "\n",
    "Fateme Nikseresht, March 2020"
   ]
  },
  {
   "cell_type": "markdown",
   "metadata": {
    "slideshow": {
     "slide_type": "slide"
    }
   },
   "source": [
    "## Introduction \n",
    "\n",
    " \n",
    "\n",
    "Emotion Dysregulation Intervention\n",
    "\n",
    "- **Application:** Mental health and well-being\n",
    "\n",
    "\n",
    "- **Goal:** Design a decision-making system to enhance the user's emotion and feeling (at work, home, party, and etc.)\n",
    "\n",
    "\n",
    "\n",
    " \n"
   ]
  },
  {
   "cell_type": "markdown",
   "metadata": {
    "slideshow": {
     "slide_type": "slide"
    }
   },
   "source": [
    "- **Method:** \n",
    " 1. Collect users' physical signals (EDA or GSR, BVP, SKT, RSP, and ECG) in real-time using wearable devices\n",
    " 2. Estimate the user's emotion according to her physical signals and profile \n",
    " 3. Send feedback to the user, considering her current emotion and preferences  \n",
    " \n",
    " \n"
   ]
  },
  {
   "cell_type": "markdown",
   "metadata": {
    "slideshow": {
     "slide_type": "slide"
    }
   },
   "source": [
    "## Data-Set\n",
    "\n",
    "- A 60-participant data set is simulated. \n",
    "- It includes four various emotion types with two different stages(Extremely Bored, Bored, Extremely Amused, Amused, Extremely relaxed, Relaxed, Extremely Scared, Scared). \n",
    "\n",
    " **Assumptions:** \n",
    " 1. User's emotion elicitated accurately from their physiological signals\n",
    " 2. Existing collected data includes all essential features"
   ]
  },
  {
   "cell_type": "markdown",
   "metadata": {
    "slideshow": {
     "slide_type": "slide"
    }
   },
   "source": [
    "## System Diagram\n",
    "\n",
    "<img src=\"Slide2.jpg\" width=\"800\" height=\"1000\">\n"
   ]
  },
  {
   "cell_type": "markdown",
   "metadata": {
    "slideshow": {
     "slide_type": "slide"
    }
   },
   "source": [
    "## System Variables\n",
    "\n",
    "### Environment Variables\n",
    "\n",
    "- **User's Physiological Signals:** *${S}$: { $s_1$,…., $s_z$}* \n",
    "\n",
    "- **Users' Profile (User's age group and gender):** *${F}$: { $f_1$,…., $f_q$}* \n",
    "\n",
    "- **Users' Circumstances (User's current environment):** *${C}$: { $c_1$,…., $c_l$}* \n",
    "\n",
    "- **Users' Prefrences (User's feedback prefrence):** *${R}$: { $r_1$,…., $r_k$}* \n",
    "\n",
    "- **Desired Emotion:** *$X^d$*\n"
   ]
  },
  {
   "cell_type": "markdown",
   "metadata": {
    "slideshow": {
     "slide_type": "slide"
    }
   },
   "source": [
    "\n",
    "### Decision Variables\n",
    "\n",
    "- **Parameter Space(Probabilithy of Emotion Type):** *${Θ}$: {$p(x_1)$, $p(x_2)$, ………….,  $p(x_8)$}*  \n",
    "*$P(x_m)$ = $h(s_z,f_q)$*\n",
    "\n",
    "- **Current Emotion Type:** *${X}$: { $x_1$,…., $x_8$}*  \n",
    "*${X_m}$= $Argmax(p(x_m))$*\n",
    "\n",
    "- **State Space(Detcted Emotion Type):** *$\\hat{X}$: { $\\hat{x_1}$,…., $\\hat{x_8}$}*,       *$\\hat{X_m}$$\\approx$${X_m}$*  \n",
    "*$X_t$= $g(X_{t-1},A_{t-1})$*\n",
    "\n",
    "\n",
    "\n",
    "\n"
   ]
  },
  {
   "cell_type": "markdown",
   "metadata": {
    "slideshow": {
     "slide_type": "slide"
    }
   },
   "source": [
    "\n",
    "- **Action Set(Decision):**   \n",
    "*$A$: { $a_1$, $a_2$, ….., $a_n$}*  \n",
    "*$A_t$= $Argmin(X_{t+1}-X^d)^2$*  \n",
    "\n",
    "- **Loss Function:**  \n",
    "*$L$= $min{\\sum_t}(X_{t+1}-X^d)^2$* "
   ]
  }
 ],
 "metadata": {
  "celltoolbar": "Slideshow",
  "kernelspec": {
   "display_name": "Python 3",
   "language": "python",
   "name": "python3"
  },
  "language_info": {
   "codemirror_mode": {
    "name": "ipython",
    "version": 3
   },
   "file_extension": ".py",
   "mimetype": "text/x-python",
   "name": "python",
   "nbconvert_exporter": "python",
   "pygments_lexer": "ipython3",
   "version": "3.7.4"
  }
 },
 "nbformat": 4,
 "nbformat_minor": 2
}
