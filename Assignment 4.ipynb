{
 "cells": [
  {
   "cell_type": "markdown",
   "metadata": {},
   "source": [
    "# A Desicion Tool for Emotion Dysregulation Interevention\n",
    "###### Fateme Nikseresht"
   ]
  },
  {
   "cell_type": "markdown",
   "metadata": {},
   "source": [
    "## Introduction"
   ]
  },
  {
   "cell_type": "markdown",
   "metadata": {},
   "source": [
    "### Problem Definition\n",
    "In my research experiment, I am going to collect some data from participants to understand how their bodies react to some different senses, including fear, stress, yelling, feeling down or sad, anger, surprise, excitement, and happiness. I will collect their data by a wrist band called Empatica E4 that has high accuracy. Then, I want to use the data set to elicit participants' emotions according to participants' body reactions.\n",
    "For the decision-making system project, I assumed that I recognized the user's emotional status, and I have the user's profile, including gender, personality, and preferences. In this case, my Decision Tool Project is, decide which strategy the best way to enhance the user's current emotional status? In other words, decide which approach works effectively for a specific type of emotion and a certain user.  \n",
    "   \n",
    "\n",
    "#### Decision Makers: \n",
    "Psychologists or my novel Deition Maker Smart Band \n",
    "\n",
    "#### Decision Problem: \n",
    "For each user, decide to send which kind of feedback to improve the user’s emotional status. In other words, decide which strategy works better for a specific emotion and person.  \n",
    "\n",
    "#### Frameworks:\n",
    "**Action Set(Decision Layer):** *${A}$: { a1, a2, ….., an}* <br> *${A}$1=* FeedBack Type 1, *${A}$2=* FeedBack Type 2, …………., *${A}$n=* FeedBack Type N\n",
    "\n",
    "**State Space(Detcted Emotion Type):**  *${X}$: { x1,…., xm}* <br> *${X}$1=* Emotion type 1(Stress), *${X}$2=* Emotion type 2(Happyness), …………., *${X}$m=* Emotion type M \n",
    "\n",
    "**Current Emotion Type:**    *$\\hat{X}$: { x1,…., xm}* <br> *$\\hat{X}$1=* Emotion type 1(Stress), *$\\hat{X}$2=* Emotion type 2(Happyness), …………., *$\\hat{X}$m=* Emotion type M\n",
    "\n",
    "**Parameter Space(Probabilithy of Emotion Type):** *${Θ}$: {p(x1), p(x2), ………….,  p(xm)}*\n",
    "\n",
    "**Users' Profile:**  *${P}$: { p1,…., pp}* <br> *${P}$1=* Profile 1, *${P}$2=* Profile 2, …………., *${P}$p=* Profile P\n",
    "\n",
    "**Payoff Function:** *$E$[u(a,x)]*\n",
    "\n",
    "<img src=\"MAUI framework.png\">\n",
    "\n",
    "<img src=\"Model.png\">\n",
    "\n",
    "#### Data-set:\n",
    "I am going to simulate a data set for this project. It will contain 50 participants, each of which has a specific detected emotion status and unique personality profile.\n"
   ]
  },
  {
   "cell_type": "markdown",
   "metadata": {},
   "source": [
    "# Script"
   ]
  },
  {
   "cell_type": "markdown",
   "metadata": {},
   "source": [
    "#### Importing required libraries"
   ]
  },
  {
   "cell_type": "code",
   "execution_count": 1,
   "metadata": {},
   "outputs": [],
   "source": [
    "import pandas as pd\n",
    "import os, sys"
   ]
  },
  {
   "cell_type": "markdown",
   "metadata": {},
   "source": [
    "#### Read the data of the first participant which has 8 columns and add the other column which indicates the participant's ID  "
   ]
  },
  {
   "cell_type": "code",
   "execution_count": 6,
   "metadata": {},
   "outputs": [],
   "source": [
    "data= pd.read_csv('D:/DATA/Bias Data/Raw_Physiological/sub1_DAQ.txt', header = None,sep='\\t')\n",
    "data.insert(9, \"9\", \"1\")\n",
    "#data.head()"
   ]
  },
  {
   "cell_type": "markdown",
   "metadata": {},
   "source": [
    "#### Read the list of file names (each of those files contains one participant data) "
   ]
  },
  {
   "cell_type": "code",
   "execution_count": 7,
   "metadata": {},
   "outputs": [],
   "source": [
    "file_list=os.listdir(\"D:/DATA/Bias Data/Raw_Physiological/\")\n",
    "#print(file_list)"
   ]
  },
  {
   "cell_type": "markdown",
   "metadata": {},
   "source": [
    "#### Create a data frame  "
   ]
  },
  {
   "cell_type": "code",
   "execution_count": 8,
   "metadata": {},
   "outputs": [],
   "source": [
    "data= pd.DataFrame()"
   ]
  },
  {
   "cell_type": "markdown",
   "metadata": {},
   "source": [
    "#### Read all participants data, put them in the data frame, and create a new column for each of them which indicates the participant's ID "
   ]
  },
  {
   "cell_type": "code",
   "execution_count": 9,
   "metadata": {},
   "outputs": [],
   "source": [
    "for i in range(1,30):\n",
    "        df = pd.read_csv(\"D:/DATA/Bias Data/Raw_Physiological/\"+file_list[i], header = None,sep='\\t')\n",
    "        df[\"9\"]=file_list[i][-10:-8]\n",
    "        #print(i)\n",
    "        data=data.append(df)"
   ]
  },
  {
   "cell_type": "code",
   "execution_count": null,
   "metadata": {},
   "outputs": [],
   "source": []
  }
 ],
 "metadata": {
  "kernelspec": {
   "display_name": "Python 3",
   "language": "python",
   "name": "python3"
  },
  "language_info": {
   "codemirror_mode": {
    "name": "ipython",
    "version": 3
   },
   "file_extension": ".py",
   "mimetype": "text/x-python",
   "name": "python",
   "nbconvert_exporter": "python",
   "pygments_lexer": "ipython3",
   "version": "3.7.4"
  }
 },
 "nbformat": 4,
 "nbformat_minor": 2
}
