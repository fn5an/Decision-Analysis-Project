{
 "cells": [
  {
   "cell_type": "markdown",
   "metadata": {},
   "source": [
    "# Introduction"
   ]
  },
  {
   "cell_type": "markdown",
   "metadata": {},
   "source": [
    "## Problem Definition\n",
    "In my research experiment, I am going to collect some data from participants to understand how their bodies react to some different senses including fear, stress, yelling, feeling down or sad, anger, surprise, excitement, and happiness. I will collect their data by a wrist band called Empatica E4 that has high accuracy. Then, I want to use the data set to detect participants’ implicit bias according to participants’ body reactions.\n",
    "For the decision tool project, I assumed that I collected the data set, I am able to detect whether participants have an implicit bias or not, and if they have an implicit bias, I am able to detect their Implicit bias type. In this case, my Decision Tool Project is, decide whether using strategy ai is the best way to mitigate that person's implicit bias. In other words, decide which strategy works effectively for a specific type of bias.  \n",
    "   \n",
    "\n",
    "### Decision Makers: \n",
    "Psychologists\n",
    "\n",
    "### Decision Problem: \n",
    "In each case, decide to use which strategy to mitigating that person’s implicit bias. In other words, decide which strategy works better for a specific type of bias.  \n",
    "\n",
    "### Frameworks:\n",
    "**Action Set:** *A: { a1, a2, ….., an}* <br> *a1=* Training Strategy 1, *a2=* Training Strategy 2, …………., *an=* Training Strategy N\n",
    "\n",
    "**State Space:** *X: { x1,…., x9}* <br> *x1=* Bias type 1(Conformity Bias), *x2=* Bias type 2(Beauty Bias), *x3=* Bias type 3(Affinity Bias), *x4=* Bias type 4(Halo Effect), *x5=* Bias type 5(Horns Effect), *x6=* Bias type 6(Similarity Bias), *x7=* Bias type 7(Contrast Effect), *x8=* Bias type 8(Attribution Bias), *x9=* Bias type 9(Confirmation Bias)\n",
    "\n",
    "**Parameter Space:** *Θ: {p(x1), p(x2), p(x3), p(x4), p(x5), p(x6), p(x7), p(x8), p(x9)}*\n",
    "\n",
    "**Payoff Function:** *E[u(a,x)]*\n",
    "\n",
    "\n",
    "### Data-set:\n",
    "I was thinking of simulating a data set for this project but I found the following data set. It is from a paper that was published a few months ago and its data set is exactly what I am looking for my main research project. However, it may be useless for this project because at first I have to detect a probable implicit bias from this data set, then recognize participants’ different types of bias, but at this point I prefer to use this data set. If we conclude the data set is not rich enough, I can either simulate a data set or find another one. \n",
    "Data-Set: https://gitlab.com/karan-shr/case_dataset\n",
    "Paper Link: https://www.nature.com/articles/s41597-019-0209-0\n",
    "\n"
   ]
  },
  {
   "cell_type": "code",
   "execution_count": 4,
   "metadata": {},
   "outputs": [],
   "source": [
    "import pandas as pd\n",
    "import os, sys"
   ]
  },
  {
   "cell_type": "markdown",
   "metadata": {},
   "source": []
  },
  {
   "cell_type": "code",
   "execution_count": null,
   "metadata": {},
   "outputs": [],
   "source": []
  }
 ],
 "metadata": {
  "kernelspec": {
   "display_name": "Python 3",
   "language": "python",
   "name": "python3"
  },
  "language_info": {
   "codemirror_mode": {
    "name": "ipython",
    "version": 3
   },
   "file_extension": ".py",
   "mimetype": "text/x-python",
   "name": "python",
   "nbconvert_exporter": "python",
   "pygments_lexer": "ipython3",
   "version": "3.7.4"
  }
 },
 "nbformat": 4,
 "nbformat_minor": 2
}
